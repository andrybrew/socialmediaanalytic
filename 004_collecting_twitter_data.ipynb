{
  "nbformat": 4,
  "nbformat_minor": 0,
  "metadata": {
    "colab": {
      "name": "004_collecting_twitter_data.ipynb",
      "provenance": [],
      "collapsed_sections": [],
      "toc_visible": true,
      "include_colab_link": true
    },
    "kernelspec": {
      "name": "python3",
      "display_name": "Python 3"
    }
  },
  "cells": [
    {
      "cell_type": "markdown",
      "metadata": {
        "id": "view-in-github",
        "colab_type": "text"
      },
      "source": [
        "<a href=\"https://colab.research.google.com/github/andrybrew/socialmediaanalytic/blob/master/004_collecting_twitter_data.ipynb\" target=\"_parent\"><img src=\"https://colab.research.google.com/assets/colab-badge.svg\" alt=\"Open In Colab\"/></a>"
      ]
    },
    {
      "cell_type": "markdown",
      "metadata": {
        "id": "8Y64-VX3WSZ8",
        "colab_type": "text"
      },
      "source": [
        "# 1.Collecting Twitter Data"
      ]
    },
    {
      "cell_type": "markdown",
      "metadata": {
        "id": "ZQui_5U19fug",
        "colab_type": "text"
      },
      "source": [
        "To collect twitter data in python, we can use Tweepy. Tweepy is the most popular Python Package for accessing the Twitter API, You can read the full documentation [HERE](https://tweepy.readthedocs.io/en/latest/). In this practice, we will practice to get tweet data using a specific keyword and save it as .CSV files"
      ]
    },
    {
      "cell_type": "markdown",
      "metadata": {
        "id": "kx4wmrMY5G3q",
        "colab_type": "text"
      },
      "source": [
        "**Install & Import Libraries**"
      ]
    },
    {
      "cell_type": "code",
      "metadata": {
        "id": "qK9C5mLS-uSJ",
        "colab_type": "code",
        "colab": {}
      },
      "source": [
        "# Install Library\n",
        "!pip install tweepy"
      ],
      "execution_count": 0,
      "outputs": []
    },
    {
      "cell_type": "code",
      "metadata": {
        "id": "c96ziFJK-to7",
        "colab_type": "code",
        "colab": {}
      },
      "source": [
        "# Import Libraries\n",
        "import tweepy\n",
        "import pandas as pd\n",
        "import numpy as np\n",
        "import sys\n",
        "import csv"
      ],
      "execution_count": 0,
      "outputs": []
    },
    {
      "cell_type": "markdown",
      "metadata": {
        "id": "SbLaSS9b5KUg",
        "colab_type": "text"
      },
      "source": [
        "**Set API Key**"
      ]
    },
    {
      "cell_type": "code",
      "metadata": {
        "id": "dAdK1U5ytfyo",
        "colab_type": "code",
        "colab": {}
      },
      "source": [
        "# Fill the API Key\n",
        "consumer_key = '8c6g53lSeupE2anReETTs2vys'\n",
        "consumer_secret = 'OltZDimReEajo9AEBAsAPqf78yyNzfrmH85aJzUzpqjAsH4Nxf'\n",
        "access_token = '201094280-dsxUFTbrXldpm8YjkziHqkmFqCkF9aRH4lLvq1oE'\n",
        "access_token_secret = 'VBpKAHnNCQjGjRpCLsrHROHufWX8tEbP3EAYblbYKNv5c'\n",
        "\n",
        "# Auth. \n",
        "auth = tweepy.OAuthHandler(consumer_key, consumer_secret)\n",
        "auth.set_access_token(access_token, access_token_secret)\n",
        "api = tweepy.API(auth)\n",
        "api"
      ],
      "execution_count": 0,
      "outputs": []
    },
    {
      "cell_type": "markdown",
      "metadata": {
        "id": "2EaRkyK55Nzf",
        "colab_type": "text"
      },
      "source": [
        "## a.Crawling"
      ]
    },
    {
      "cell_type": "markdown",
      "metadata": {
        "id": "vW96MoKwTeL7",
        "colab_type": "text"
      },
      "source": [
        "Collect the past tweets."
      ]
    },
    {
      "cell_type": "markdown",
      "metadata": {
        "id": "84UZitvnOGrp",
        "colab_type": "text"
      },
      "source": [
        "### By Keyword"
      ]
    },
    {
      "cell_type": "markdown",
      "metadata": {
        "id": "2zLhaYPwNHTc",
        "colab_type": "text"
      },
      "source": [
        "**Set Tweet Requirements**"
      ]
    },
    {
      "cell_type": "code",
      "metadata": {
        "id": "ioHPBkBkNcrL",
        "colab_type": "code",
        "colab": {}
      },
      "source": [
        "# Set Word to Follow\n",
        "keyword = 'corona'\n",
        "\n",
        "# Set Number of Tweets\n",
        "number_of_tweets = 100\n",
        "\n",
        "# Tweet Mode\n",
        "tweet_mode = 'extended'\n",
        "\n",
        "# Set Language\n",
        "language = 'en'"
      ],
      "execution_count": 0,
      "outputs": []
    },
    {
      "cell_type": "markdown",
      "metadata": {
        "id": "MjyttF1r5vVR",
        "colab_type": "text"
      },
      "source": [
        "**Get the Tweets**"
      ]
    },
    {
      "cell_type": "code",
      "metadata": {
        "id": "2d4CRt7uw4wG",
        "colab_type": "code",
        "colab": {}
      },
      "source": [
        "# Finding Tweets by Keyword\n",
        "crawling_keyword = api.search(keyword, count=number_of_tweets, tweet_mode = tweet_mode, lang=language)\n",
        "\n",
        "# Show Tweets\n",
        "crawling_keyword"
      ],
      "execution_count": 0,
      "outputs": []
    },
    {
      "cell_type": "code",
      "metadata": {
        "id": "bFEH8_gKy0Fa",
        "colab_type": "code",
        "colab": {}
      },
      "source": [
        "# Create Tweets Data Frame\n",
        "df_crawling_keyword = pd.DataFrame({\n",
        "                      'time' : [tweet.created_at for tweet in crawling_keyword],\n",
        "                      'description' : [tweet.user.description for tweet in crawling_keyword],\n",
        "                      'usertweets' : [tweet.user.statuses_count for tweet in crawling_keyword],\n",
        "                      'source' : [tweet.user.screen_name for tweet in crawling_keyword],\n",
        "                      'target' : [tweet.in_reply_to_screen_name for tweet in crawling_keyword],\n",
        "                      'verified' : [tweet.user.verified for tweet in crawling_keyword],\n",
        "                      'text' : [tweet.full_text for tweet in crawling_keyword],\n",
        "                      'hashtags' : [tweet.entities['hashtags'] for tweet in crawling_keyword],\n",
        "                      'location' : [tweet.user.location for tweet in crawling_keyword],\n",
        "                      'following' : [tweet.user.friends_count for tweet in crawling_keyword],\n",
        "                      'followers' : [tweet.user.followers_count for tweet in crawling_keyword],\n",
        "                      'retweets' : [tweet.retweet_count for tweet in crawling_keyword],\n",
        "                      })\n",
        "\n",
        "df_crawling_keyword"
      ],
      "execution_count": 0,
      "outputs": []
    },
    {
      "cell_type": "markdown",
      "metadata": {
        "id": "G6rAt47bOTv-",
        "colab_type": "text"
      },
      "source": [
        "**Save Tweets**"
      ]
    },
    {
      "cell_type": "code",
      "metadata": {
        "id": "5gF0JgyxO09A",
        "colab_type": "code",
        "colab": {}
      },
      "source": [
        "# Save as .CSV\n",
        "df_crawling_keyword.to_csv('crawling_keyword.csv')"
      ],
      "execution_count": 0,
      "outputs": []
    },
    {
      "cell_type": "markdown",
      "metadata": {
        "id": "_B0LnkP0Tyql",
        "colab_type": "text"
      },
      "source": [
        "### User Timeline"
      ]
    },
    {
      "cell_type": "markdown",
      "metadata": {
        "id": "V56YAYLMXYTH",
        "colab_type": "text"
      },
      "source": [
        "**Set Tweets Requirement**"
      ]
    },
    {
      "cell_type": "code",
      "metadata": {
        "id": "PJ63ebMGXk-1",
        "colab_type": "code",
        "colab": {}
      },
      "source": [
        "# User to Follow\n",
        "user = '@raisa9960'\n",
        "\n",
        "# Set Number of Tweets\n",
        "number_of_tweets = 200\n",
        "\n",
        "# Tweet Mode\n",
        "tweet_mode = 'extended'"
      ],
      "execution_count": 0,
      "outputs": []
    },
    {
      "cell_type": "code",
      "metadata": {
        "id": "QIxJmHhTZtGw",
        "colab_type": "code",
        "colab": {}
      },
      "source": [
        "# Finding Tweets by Username\n",
        "crawling_timeline = api.user_timeline(screen_name = user,  count = number_of_tweets, tweet_mode = tweet_mode)\n",
        "\n",
        "# Show Tweets\n",
        "crawling_timeline"
      ],
      "execution_count": 0,
      "outputs": []
    },
    {
      "cell_type": "code",
      "metadata": {
        "id": "tcpBmAiIZJVd",
        "colab_type": "code",
        "colab": {}
      },
      "source": [
        "# Create Tweets Data Frame\n",
        "df_crawling_timeline = pd.DataFrame({\n",
        "                      'time' : [tweet.created_at for tweet in crawling_timeline],\n",
        "                      'text' : [tweet.full_text for tweet in crawling_timeline],\n",
        "                      'location' : [tweet.user.location for tweet in crawling_timeline],\n",
        "                      })\n",
        "\n",
        "df_crawling_timeline"
      ],
      "execution_count": 0,
      "outputs": []
    },
    {
      "cell_type": "markdown",
      "metadata": {
        "id": "XKfJfwwYTaBt",
        "colab_type": "text"
      },
      "source": [
        "## b.Streaming"
      ]
    },
    {
      "cell_type": "markdown",
      "metadata": {
        "id": "afBYHWiTTjKp",
        "colab_type": "text"
      },
      "source": [
        "Stream the real-time Tweets"
      ]
    },
    {
      "cell_type": "markdown",
      "metadata": {
        "id": "PoeiGWkF9QfY",
        "colab_type": "text"
      },
      "source": [
        "**Create Streaming Function**"
      ]
    },
    {
      "cell_type": "code",
      "metadata": {
        "id": "TuqWO6VK8S8_",
        "colab_type": "code",
        "colab": {}
      },
      "source": [
        "# Import Modules\n",
        "from tweepy import Stream\n",
        "from tweepy.streaming import StreamListener"
      ],
      "execution_count": 0,
      "outputs": []
    },
    {
      "cell_type": "markdown",
      "metadata": {
        "id": "xhqTF5kMVQgI",
        "colab_type": "text"
      },
      "source": [
        "### By Keyword"
      ]
    },
    {
      "cell_type": "markdown",
      "metadata": {
        "id": "vZob2GRCYefG",
        "colab_type": "text"
      },
      "source": [
        "**Set Tweet Requirements**"
      ]
    },
    {
      "cell_type": "code",
      "metadata": {
        "id": "ExUkBFktVU5n",
        "colab_type": "code",
        "colab": {}
      },
      "source": [
        "# Set Word to Follow\n",
        "keyword = 'corona'"
      ],
      "execution_count": 0,
      "outputs": []
    },
    {
      "cell_type": "markdown",
      "metadata": {
        "id": "YZ-bYY3TYiwj",
        "colab_type": "text"
      },
      "source": [
        "**Stream the Tweets**"
      ]
    },
    {
      "cell_type": "code",
      "metadata": {
        "id": "4ovMd4gIJD3E",
        "colab_type": "code",
        "colab": {}
      },
      "source": [
        "# Create an Object Called 'customStreamListener' with the Function Below\n",
        "\n",
        "class CustomStreamListener(tweepy.StreamListener):\n",
        "\n",
        "    def on_status(self, status):\n",
        "        print (status.created_at, status.user.description, status.user.statuses_count,\n",
        "               status.user.screen_name, status.in_reply_to_screen_name, status.user.verified,\n",
        "               status.text, status.entities['hashtags'], status.user.location, \n",
        "               status.user.friends_count, status.user.followers_count, status.retweet_count)\n",
        "        \n",
        "        # Writing status data\n",
        "        with open('streaming_keyword.txt', 'a') as f:\n",
        "            writer = csv.writer(f)\n",
        "            writer.writerow([status.created_at, status.user.description, status.user.statuses_count, \n",
        "                             status.user.screen_name, status.in_reply_to_screen_name, status.user.verified,\n",
        "                             status.text, status.entities['hashtags'], status.user.location, \n",
        "                             status.user.friends_count, status.user.followers_count, status.retweet_count])\n",
        "\n",
        "    def on_error(self, status_code):\n",
        "        print >> sys.stderr, 'Encountered error with status code:', status_code\n",
        "        return True # Don't kill the stream\n",
        "\n",
        "    def on_timeout(self):\n",
        "        print >> sys.stderr, 'Timeout...'\n",
        "        return True # Don't kill the stream"
      ],
      "execution_count": 0,
      "outputs": []
    },
    {
      "cell_type": "code",
      "metadata": {
        "id": "7yjeRN8LYKpY",
        "colab_type": "code",
        "colab": {}
      },
      "source": [
        "# Writing csv Titles\n",
        "with open('streaming_keyword.txt', 'w') as f:\n",
        "    writer = csv.writer(f)\n",
        "    writer.writerow(['time', 'description', 'usertweets', 'source', 'target', 'verified',\n",
        "                     'text', 'hashtag', 'location', 'following', 'followers', 'retweets'])\n",
        "\n",
        "streamingAPI = tweepy.streaming.Stream(auth, CustomStreamListener())\n",
        "streamingAPI.filter(track=keyword)"
      ],
      "execution_count": 0,
      "outputs": []
    },
    {
      "cell_type": "code",
      "metadata": {
        "id": "vDt22wciJndO",
        "colab_type": "code",
        "colab": {}
      },
      "source": [
        "# Stop Streaming\n",
        "def disconnect(self):\n",
        "    if self.running is False:\n",
        "        return\n",
        "    self.running = False"
      ],
      "execution_count": 0,
      "outputs": []
    },
    {
      "cell_type": "code",
      "metadata": {
        "id": "nhEjAUjiMf71",
        "colab_type": "code",
        "colab": {}
      },
      "source": [
        "# Show Streaming Result\n",
        "df_streaming = pd.read_csv('streaming_keyword.txt', sep=\",\")\n",
        "df_streaming"
      ],
      "execution_count": 0,
      "outputs": []
    }
  ]
}