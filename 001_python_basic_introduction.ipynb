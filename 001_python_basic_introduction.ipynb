{
  "nbformat": 4,
  "nbformat_minor": 0,
  "metadata": {
    "colab": {
      "name": "001_python_basic_introduction.ipynb",
      "provenance": [],
      "collapsed_sections": [],
      "toc_visible": true,
      "include_colab_link": true
    },
    "kernelspec": {
      "name": "python3",
      "display_name": "Python 3"
    }
  },
  "cells": [
    {
      "cell_type": "markdown",
      "metadata": {
        "id": "view-in-github",
        "colab_type": "text"
      },
      "source": [
        "<a href=\"https://colab.research.google.com/github/andrybrew/socialmediaanalytic/blob/master/001_python_basic_introduction.ipynb\" target=\"_parent\"><img src=\"https://colab.research.google.com/assets/colab-badge.svg\" alt=\"Open In Colab\"/></a>"
      ]
    },
    {
      "cell_type": "markdown",
      "metadata": {
        "id": "4GfEZlF_2KPM",
        "colab_type": "text"
      },
      "source": [
        "# Python Basic Introduction"
      ]
    },
    {
      "cell_type": "markdown",
      "metadata": {
        "id": "qYxiVlC1Fek5",
        "colab_type": "text"
      },
      "source": [
        "## Data Structures\n",
        "There are quite a few data structures available. The builtins data structures are: lists, tuples, dictionaries, strings, sets and frozensets.\n"
      ]
    },
    {
      "cell_type": "markdown",
      "metadata": {
        "id": "eaIKztKNdoWT",
        "colab_type": "text"
      },
      "source": [
        "### Strings\n",
        "Strings are immutable sequence of letters, numbers or symbols named characters. The sequence of character is begin with 0 from the left to the right and -1 from the right to the left.\n",
        "To create string, we need to use the ' '."
      ]
    },
    {
      "cell_type": "code",
      "metadata": {
        "id": "ehHIQPIIdwZp",
        "colab_type": "code",
        "colab": {}
      },
      "source": [
        "# Create String\n",
        "string_a = 'Hello World'\n",
        "string_a"
      ],
      "execution_count": 0,
      "outputs": []
    },
    {
      "cell_type": "code",
      "metadata": {
        "id": "X_fRWZxLk0iv",
        "colab_type": "code",
        "colab": {}
      },
      "source": [
        "# Check Type\n",
        "type(string_a)"
      ],
      "execution_count": 0,
      "outputs": []
    },
    {
      "cell_type": "code",
      "metadata": {
        "id": "W6OqGsOidTIK",
        "colab_type": "code",
        "colab": {}
      },
      "source": [
        "# Show String Length\n",
        "len(string_a)"
      ],
      "execution_count": 0,
      "outputs": []
    },
    {
      "cell_type": "code",
      "metadata": {
        "id": "jM6j8f0VmMW-",
        "colab_type": "code",
        "colab": {}
      },
      "source": [
        "# Select the nth Character from the Left\n",
        "string_a[1]"
      ],
      "execution_count": 0,
      "outputs": []
    },
    {
      "cell_type": "markdown",
      "metadata": {
        "id": "mVUbOh6cGBjy",
        "colab_type": "text"
      },
      "source": [
        "### Lists\n",
        "Lists can contain any type of objects. We use [1, 2, 3] to add numeric object but for character we need to use ['one', 'two', 'three']. A single list may contain DataTypes like Integers, Strings, as well as Objects.\n",
        "\n",
        "Lists are mutable, and hence, they can be altered even after their creation.\n",
        "\n",
        "Each data has an address referred to as an index. The index is begins with 0 from the left to the right and begins with -1 from the right to the left."
      ]
    },
    {
      "cell_type": "markdown",
      "metadata": {
        "id": "500C7nm6TL9A",
        "colab_type": "text"
      },
      "source": [
        "Create list"
      ]
    },
    {
      "cell_type": "code",
      "metadata": {
        "id": "Ym3SjhyPfOzq",
        "colab_type": "code",
        "colab": {}
      },
      "source": [
        "# Create an Empty List\n",
        "list_fruits = []\n",
        "list_fruits"
      ],
      "execution_count": 0,
      "outputs": []
    },
    {
      "cell_type": "code",
      "metadata": {
        "id": "fhalAB2YVO6z",
        "colab_type": "code",
        "colab": {}
      },
      "source": [
        "# Check Type\n",
        "type(list_fruits)"
      ],
      "execution_count": 0,
      "outputs": []
    },
    {
      "cell_type": "code",
      "metadata": {
        "id": "d9smdvctG5u9",
        "colab_type": "code",
        "colab": {}
      },
      "source": [
        "# Create List\n",
        "list_fruits = ['orange', 'apple', 'pear']\n",
        "list_fruits"
      ],
      "execution_count": 0,
      "outputs": []
    },
    {
      "cell_type": "markdown",
      "metadata": {
        "id": "tmOEGrzdTQGO",
        "colab_type": "text"
      },
      "source": [
        "Add items to the list"
      ]
    },
    {
      "cell_type": "code",
      "metadata": {
        "id": "fEJqbmTSHmuS",
        "colab_type": "code",
        "colab": {}
      },
      "source": [
        "# Append an Item to the end of List\n",
        "list_fruits.append('banana')\n",
        "list_fruits"
      ],
      "execution_count": 0,
      "outputs": []
    },
    {
      "cell_type": "code",
      "metadata": {
        "id": "cfZUFHJJH331",
        "colab_type": "code",
        "colab": {}
      },
      "source": [
        "# Extend Items to List\n",
        "list_fruits.extend(['kiwi', 'apple', 'banana', 'durian', 'rambutan', 'grape'])\n",
        "list_fruits"
      ],
      "execution_count": 0,
      "outputs": []
    },
    {
      "cell_type": "code",
      "metadata": {
        "id": "kp9ruthjPvF2",
        "colab_type": "code",
        "colab": {}
      },
      "source": [
        "# Insert an Item to a Specific Index of a List\n",
        "list_fruits.insert(2,'orange')\n",
        "list_fruits"
      ],
      "execution_count": 0,
      "outputs": []
    },
    {
      "cell_type": "markdown",
      "metadata": {
        "id": "6Xij3x8lUYzP",
        "colab_type": "text"
      },
      "source": [
        "Explore the list"
      ]
    },
    {
      "cell_type": "code",
      "metadata": {
        "id": "Uu2A4X86Lpxs",
        "colab_type": "code",
        "colab": {}
      },
      "source": [
        "# Count an Item\n",
        "list_fruits.count('banana')"
      ],
      "execution_count": 0,
      "outputs": []
    },
    {
      "cell_type": "code",
      "metadata": {
        "id": "y1Gsa_RJSeII",
        "colab_type": "code",
        "colab": {}
      },
      "source": [
        "# View the nth Item\n",
        "list_fruits[2]"
      ],
      "execution_count": 0,
      "outputs": []
    },
    {
      "cell_type": "code",
      "metadata": {
        "id": "4uYzIDGphEnx",
        "colab_type": "code",
        "colab": {}
      },
      "source": [
        "# View the nth Item\n",
        "list_fruits[1:3]"
      ],
      "execution_count": 0,
      "outputs": []
    },
    {
      "cell_type": "code",
      "metadata": {
        "id": "GHYa2WzWMUhY",
        "colab_type": "code",
        "colab": {}
      },
      "source": [
        "# Sorts Items\n",
        "list_fruits.sort(reverse=False)\n",
        "list_fruits"
      ],
      "execution_count": 0,
      "outputs": []
    },
    {
      "cell_type": "code",
      "metadata": {
        "id": "O_I6r4xeNkJ0",
        "colab_type": "code",
        "colab": {}
      },
      "source": [
        "# Reverse Items\n",
        "list_fruits.reverse()\n",
        "list_fruits"
      ],
      "execution_count": 0,
      "outputs": []
    },
    {
      "cell_type": "markdown",
      "metadata": {
        "id": "E5kxVDekUe7j",
        "colab_type": "text"
      },
      "source": [
        "Remove items from the list"
      ]
    },
    {
      "cell_type": "code",
      "metadata": {
        "id": "jOWfzkBPSv30",
        "colab_type": "code",
        "colab": {}
      },
      "source": [
        "# Change the nth Item\n",
        "list_fruits[2] = 'coconut'\n",
        "list_fruits"
      ],
      "execution_count": 0,
      "outputs": []
    },
    {
      "cell_type": "code",
      "metadata": {
        "id": "0ox9eK0nKc2l",
        "colab_type": "code",
        "colab": {}
      },
      "source": [
        "# Remove the Nearest Item from List\n",
        "list_fruits.remove('coconut')\n",
        "list_fruits"
      ],
      "execution_count": 0,
      "outputs": []
    },
    {
      "cell_type": "code",
      "metadata": {
        "id": "vJhSuxAKVc-F",
        "colab_type": "code",
        "colab": {}
      },
      "source": [
        "# Remove the nth Item\n",
        "del list_fruits[1]\n",
        "list_fruits"
      ],
      "execution_count": 0,
      "outputs": []
    },
    {
      "cell_type": "code",
      "metadata": {
        "id": "Ss7F7xQXYizt",
        "colab_type": "code",
        "colab": {}
      },
      "source": [
        "# Remove the Multiple Items by Index Range\n",
        "del list_fruits[4:6]\n",
        "list_fruits"
      ],
      "execution_count": 0,
      "outputs": []
    },
    {
      "cell_type": "code",
      "metadata": {
        "id": "tE4f3sUJZHHP",
        "colab_type": "code",
        "colab": {}
      },
      "source": [
        "# Remove Items by specifying step as [start:stop:step]\n",
        "del list_fruits[0:6:2]\n",
        "list_fruits"
      ],
      "execution_count": 0,
      "outputs": []
    },
    {
      "cell_type": "markdown",
      "metadata": {
        "id": "-3eRc7o2bvVE",
        "colab_type": "text"
      },
      "source": [
        "Show items that meet the condition"
      ]
    },
    {
      "cell_type": "code",
      "metadata": {
        "id": "ojRKFsW4Zkzi",
        "colab_type": "code",
        "colab": {}
      },
      "source": [
        "# Show List without Items\n",
        "print([s for s in list_fruits if s != 'apple'])"
      ],
      "execution_count": 0,
      "outputs": []
    },
    {
      "cell_type": "code",
      "metadata": {
        "id": "4LJlRPLTZmaU",
        "colab_type": "code",
        "colab": {}
      },
      "source": [
        "# Show Multiple Items that Starts with X\n",
        "print([s for s in list_fruits if s.startswith('o')])"
      ],
      "execution_count": 0,
      "outputs": []
    },
    {
      "cell_type": "code",
      "metadata": {
        "id": "dnSWtv-AaWA2",
        "colab_type": "code",
        "colab": {}
      },
      "source": [
        "# Remove Multiple Items that Ends with X\n",
        "print([s for s in list_fruits if s.endswith('e')])"
      ],
      "execution_count": 0,
      "outputs": []
    },
    {
      "cell_type": "code",
      "metadata": {
        "id": "vvAV_uLVbUMO",
        "colab_type": "code",
        "colab": {}
      },
      "source": [
        "# Remove Multiple Items that Start with X and Ends with Y\n",
        "print([s for s in list_fruits if s.startswith('o') and s.endswith('e')])"
      ],
      "execution_count": 0,
      "outputs": []
    },
    {
      "cell_type": "markdown",
      "metadata": {
        "id": "4PbAGAoxVP2I",
        "colab_type": "text"
      },
      "source": [
        "Remove list"
      ]
    },
    {
      "cell_type": "code",
      "metadata": {
        "id": "Jxx3-JB7Qkuq",
        "colab_type": "code",
        "colab": {}
      },
      "source": [
        "# Remove List\n",
        "list_fruits.clear()\n",
        "list_fruits"
      ],
      "execution_count": 0,
      "outputs": []
    },
    {
      "cell_type": "markdown",
      "metadata": {
        "id": "DjTznqnmImVj",
        "colab_type": "text"
      },
      "source": [
        "### Tuples\n",
        "In someways a tuple is similar to a list in terms of indexing, nested objects and repetition but a tuple is immutable. We use (1, 2, 3) to add numeric object but for character we need to use ('one', 'two', 'three'). "
      ]
    },
    {
      "cell_type": "code",
      "metadata": {
        "id": "L8erk8oKfUSp",
        "colab_type": "code",
        "colab": {}
      },
      "source": [
        "# Create Tuple\n",
        "tuple_animals = ()\n",
        "tuple_animals"
      ],
      "execution_count": 0,
      "outputs": []
    },
    {
      "cell_type": "code",
      "metadata": {
        "id": "fSiSBWWdVXEs",
        "colab_type": "code",
        "colab": {}
      },
      "source": [
        "# Check Type\n",
        "type(tuple_animals)"
      ],
      "execution_count": 0,
      "outputs": []
    },
    {
      "cell_type": "code",
      "metadata": {
        "id": "wDlZXYl9JEZ-",
        "colab_type": "code",
        "colab": {}
      },
      "source": [
        "# Create Tuple\n",
        "tuple_animals = ('cat', 'lion', 'bear', 'dog', 'bird')\n",
        "tuple_animals"
      ],
      "execution_count": 0,
      "outputs": []
    },
    {
      "cell_type": "code",
      "metadata": {
        "id": "S6hiKlhNJQtv",
        "colab_type": "code",
        "colab": {}
      },
      "source": [
        "# Create Tuple\n",
        "tuple_animals1 = 'cat', 'lion', 'bear', 'dog', 'bird'\n",
        "tuple_animals1"
      ],
      "execution_count": 0,
      "outputs": []
    },
    {
      "cell_type": "markdown",
      "metadata": {
        "id": "aO2eRakCgMsv",
        "colab_type": "text"
      },
      "source": [
        "Explore the tuple"
      ]
    },
    {
      "cell_type": "code",
      "metadata": {
        "id": "yV3DpcVdhN-p",
        "colab_type": "code",
        "colab": {}
      },
      "source": [
        "# Count an Item\n",
        "tuple_animals.count('cat')"
      ],
      "execution_count": 0,
      "outputs": []
    },
    {
      "cell_type": "code",
      "metadata": {
        "id": "4X0ttKK9gDfU",
        "colab_type": "code",
        "colab": {}
      },
      "source": [
        "# Show the nth Item\n",
        "tuple_animals[1]"
      ],
      "execution_count": 0,
      "outputs": []
    },
    {
      "cell_type": "code",
      "metadata": {
        "id": "drHbK23fgSYw",
        "colab_type": "code",
        "colab": {}
      },
      "source": [
        "# Show range of Items\n",
        "tuple_animals[1:3]"
      ],
      "execution_count": 0,
      "outputs": []
    },
    {
      "cell_type": "code",
      "metadata": {
        "id": "2P_2qzHYg9L4",
        "colab_type": "code",
        "colab": {}
      },
      "source": [
        "# Show range of Items\n",
        "tuple_animals[:2]"
      ],
      "execution_count": 0,
      "outputs": []
    },
    {
      "cell_type": "code",
      "metadata": {
        "id": "KnPL1MCCh-PS",
        "colab_type": "code",
        "colab": {}
      },
      "source": [
        "# Sorts Items\n",
        "sorted(tuple_animals, reverse=False)"
      ],
      "execution_count": 0,
      "outputs": []
    },
    {
      "cell_type": "code",
      "metadata": {
        "id": "gxSKnEfFienW",
        "colab_type": "code",
        "colab": {}
      },
      "source": [
        "# Sorts Items\n",
        "sorted(tuple_animals, reverse=True)"
      ],
      "execution_count": 0,
      "outputs": []
    },
    {
      "cell_type": "markdown",
      "metadata": {
        "id": "7Ua5ImaHi6IN",
        "colab_type": "text"
      },
      "source": [
        "Convert tuple to the list"
      ]
    },
    {
      "cell_type": "code",
      "metadata": {
        "id": "-WIL7NxojAFz",
        "colab_type": "code",
        "colab": {}
      },
      "source": [
        "list_animals = list(tuple_animals)\n",
        "list_animals"
      ],
      "execution_count": 0,
      "outputs": []
    },
    {
      "cell_type": "markdown",
      "metadata": {
        "id": "7KLV7RiLfTjS",
        "colab_type": "text"
      },
      "source": [
        "### Sets\n",
        "Python also includes a data type for sets. A set is an unordered collection with no duplicate elements. Basic uses include membership testing and eliminating duplicate entries. Set objects also support mathematical operations like union, intersection, difference, and symmetric difference.\n",
        "Curly braces or the set() function can be used to create sets. Note: to create an empty set you have to use set(), not {}.\n",
        "No index in sets since the values are unordered."
      ]
    },
    {
      "cell_type": "markdown",
      "metadata": {
        "id": "LvxMFmF9THb8",
        "colab_type": "text"
      },
      "source": [
        "Create set"
      ]
    },
    {
      "cell_type": "code",
      "metadata": {
        "id": "PXwIY3KpTFVs",
        "colab_type": "code",
        "colab": {}
      },
      "source": [
        "# Create an Empty Set\n",
        "set_groceries_a = set()\n",
        "set_groceries_a"
      ],
      "execution_count": 0,
      "outputs": []
    },
    {
      "cell_type": "code",
      "metadata": {
        "id": "z2Fi6b_9VGPZ",
        "colab_type": "code",
        "colab": {}
      },
      "source": [
        "# Check Type\n",
        "type(set_groceries_a)"
      ],
      "execution_count": 0,
      "outputs": []
    },
    {
      "cell_type": "code",
      "metadata": {
        "id": "0ZMELN5pfWqM",
        "colab_type": "code",
        "colab": {}
      },
      "source": [
        "# Create Set\n",
        "set_groceries_a = {'milk', 'diaper', 'parfume', 'noodle', 'bread', 'vegetable', 'milk', 'vegetable'}\n",
        "set_groceries_a"
      ],
      "execution_count": 0,
      "outputs": []
    },
    {
      "cell_type": "code",
      "metadata": {
        "id": "z_gHbo14Vy_h",
        "colab_type": "code",
        "colab": {}
      },
      "source": [
        "# Create Set\n",
        "set_groceries_b = {'milk', 'ball', 'towel', 'noodle', 'tea', 'vegetable'}\n",
        "set_groceries_b"
      ],
      "execution_count": 0,
      "outputs": []
    },
    {
      "cell_type": "markdown",
      "metadata": {
        "id": "i9GA0bKHWqAA",
        "colab_type": "text"
      },
      "source": [
        "Add items to the set"
      ]
    },
    {
      "cell_type": "code",
      "metadata": {
        "id": "1NzFNF6FWxZv",
        "colab_type": "code",
        "colab": {}
      },
      "source": [
        "# Add an Item\n",
        "set_groceries_a.add('sausage') \n",
        "set_groceries_a"
      ],
      "execution_count": 0,
      "outputs": []
    },
    {
      "cell_type": "code",
      "metadata": {
        "id": "Q99VQCr9W-eW",
        "colab_type": "code",
        "colab": {}
      },
      "source": [
        "# Add Items\n",
        "set_groceries_a.update(['beef','cheese','tofu']) \n",
        "set_groceries_a"
      ],
      "execution_count": 0,
      "outputs": []
    },
    {
      "cell_type": "markdown",
      "metadata": {
        "id": "GvGMXJIeV9Kk",
        "colab_type": "text"
      },
      "source": [
        "Explore the set"
      ]
    },
    {
      "cell_type": "code",
      "metadata": {
        "id": "wQb6q4qsWDgm",
        "colab_type": "code",
        "colab": {}
      },
      "source": [
        "# Search for Item Availability\n",
        "'milk' in set_groceries_a"
      ],
      "execution_count": 0,
      "outputs": []
    },
    {
      "cell_type": "code",
      "metadata": {
        "id": "uRoQVQRSfi6l",
        "colab_type": "code",
        "colab": {}
      },
      "source": [
        "# Show Union (items in a or b or both)\n",
        "set_groceries_a | set_groceries_b"
      ],
      "execution_count": 0,
      "outputs": []
    },
    {
      "cell_type": "code",
      "metadata": {
        "id": "cPduNQ4RY3uG",
        "colab_type": "code",
        "colab": {}
      },
      "source": [
        "# Show Intersection (items in both a and b)\n",
        "set_groceries_a & set_groceries_b"
      ],
      "execution_count": 0,
      "outputs": []
    },
    {
      "cell_type": "code",
      "metadata": {
        "id": "JPdy6kLjZJGW",
        "colab_type": "code",
        "colab": {}
      },
      "source": [
        "# Show Symetric Difference (items in a or b but not both)\n",
        "set_groceries_a ^ set_groceries_b"
      ],
      "execution_count": 0,
      "outputs": []
    },
    {
      "cell_type": "code",
      "metadata": {
        "id": "0nUVV3jiZejG",
        "colab_type": "code",
        "colab": {}
      },
      "source": [
        "# Show Difference (items in a but not in b)\n",
        "set_groceries_a - set_groceries_b"
      ],
      "execution_count": 0,
      "outputs": []
    },
    {
      "cell_type": "markdown",
      "metadata": {
        "id": "ldNquadUXdpa",
        "colab_type": "text"
      },
      "source": [
        "Remove items from the set"
      ]
    },
    {
      "cell_type": "code",
      "metadata": {
        "id": "Q7QmaYxiXgDj",
        "colab_type": "code",
        "colab": {}
      },
      "source": [
        "# Remove an Item\n",
        "set_groceries_a.remove('sausage') \n",
        "set_groceries_a"
      ],
      "execution_count": 0,
      "outputs": []
    },
    {
      "cell_type": "markdown",
      "metadata": {
        "id": "P9PqUTfkbgdw",
        "colab_type": "text"
      },
      "source": [
        "The frozenset() is an inbuilt function is Python which takes an iterable object as input and makes them immutable. Simply it freezes the iterable objects and makes them unchangeable."
      ]
    },
    {
      "cell_type": "code",
      "metadata": {
        "id": "VcwE68DCbfp-",
        "colab_type": "code",
        "colab": {}
      },
      "source": [
        "# Create Frozenset\n",
        "frzset_groceries_a = frozenset(set_groceries_a)\n",
        "frzset_groceries_a"
      ],
      "execution_count": 0,
      "outputs": []
    },
    {
      "cell_type": "markdown",
      "metadata": {
        "id": "BZimBACWZ3QH",
        "colab_type": "text"
      },
      "source": [
        "Remove set"
      ]
    },
    {
      "cell_type": "code",
      "metadata": {
        "id": "oziZ0uWwZwSL",
        "colab_type": "code",
        "colab": {}
      },
      "source": [
        "# Remove Set\n",
        "set_groceries_b.clear()\n",
        "set_groceries_b"
      ],
      "execution_count": 0,
      "outputs": []
    },
    {
      "cell_type": "markdown",
      "metadata": {
        "id": "0l7MW6NNaFQp",
        "colab_type": "text"
      },
      "source": [
        "### Dictionary\n",
        "Dictionaries are sometimes found in other languages as “associative memories”.\n",
        "Unlike list and tuples, which are indexed by a range of numbers, dictionaries are indexed by keys. Keys can be any immutable type.\n",
        "The immutable frozenset and tuple can be used as keys. A mutable object cannot be used as a key. \n",
        "Another requirement is that the keys are unique (within one dictionary).\n",
        "A pair of braces creates an empty dictionary {}"
      ]
    },
    {
      "cell_type": "markdown",
      "metadata": {
        "id": "qCTzyK6BcwC1",
        "colab_type": "text"
      },
      "source": [
        "Create dictionary"
      ]
    },
    {
      "cell_type": "code",
      "metadata": {
        "id": "GisflQsMcx_B",
        "colab_type": "code",
        "colab": {}
      },
      "source": [
        "# Create an Empty Dictionary\n",
        "dict_colors = {}"
      ],
      "execution_count": 0,
      "outputs": []
    },
    {
      "cell_type": "code",
      "metadata": {
        "id": "ywcpVSSGafQJ",
        "colab_type": "code",
        "colab": {}
      },
      "source": [
        "# Create Dictionary\n",
        "dict_colors = {'apple':'red',\n",
        "               'blueberry':'blue',\n",
        "               'avocado':'green',\n",
        "               'banana':'yellow'}\n",
        "dict_colors"
      ],
      "execution_count": 0,
      "outputs": []
    },
    {
      "cell_type": "code",
      "metadata": {
        "id": "7T96ut7sdKnH",
        "colab_type": "code",
        "colab": {}
      },
      "source": [
        "# Show Access Key\n",
        "dict_colors.keys()"
      ],
      "execution_count": 0,
      "outputs": []
    },
    {
      "cell_type": "markdown",
      "metadata": {
        "id": "Pnbaup68pdUc",
        "colab_type": "text"
      },
      "source": [
        "Use the dictionary"
      ]
    },
    {
      "cell_type": "code",
      "metadata": {
        "id": "FP36DZ6rpa9b",
        "colab_type": "code",
        "colab": {}
      },
      "source": [
        "# Show the Value from a Key\n",
        "print(dict_colors.get('avocado'))"
      ],
      "execution_count": 0,
      "outputs": []
    },
    {
      "cell_type": "code",
      "metadata": {
        "id": "lxwLQ598odsF",
        "colab_type": "code",
        "colab": {}
      },
      "source": [
        "# Show the Value from a Key\n",
        "print('The color of an avocado is %s' % dict_colors['avocado'])"
      ],
      "execution_count": 0,
      "outputs": []
    },
    {
      "cell_type": "code",
      "metadata": {
        "id": "HDOluaxap-t8",
        "colab_type": "code",
        "colab": {}
      },
      "source": [
        "# Show the Values from All Keys\n",
        "for key, val in dict_colors.items():\n",
        "    print(\"%s : %s\" % (key, val))"
      ],
      "execution_count": 0,
      "outputs": []
    },
    {
      "cell_type": "markdown",
      "metadata": {
        "id": "8Hmw5AZ-2SX4",
        "colab_type": "text"
      },
      "source": [
        "##NumPy\n",
        "NumPy is a basic package for scientific computing with Python and especially for data analysis. NumPy is a library for the Python programming language, adding support for large, multi-dimensional arrays and matrices, along with a large collection of high-level mathematical functions to operate on these arrays. "
      ]
    },
    {
      "cell_type": "markdown",
      "metadata": {
        "id": "gErXn3yOwUoW",
        "colab_type": "text"
      },
      "source": [
        "Install and import library"
      ]
    },
    {
      "cell_type": "code",
      "metadata": {
        "id": "b8IAagqk2GKZ",
        "colab_type": "code",
        "colab": {}
      },
      "source": [
        "# Install library\n",
        "!pip install numpy"
      ],
      "execution_count": 0,
      "outputs": []
    },
    {
      "cell_type": "code",
      "metadata": {
        "id": "5aIZ92SO2Bvs",
        "colab_type": "code",
        "colab": {}
      },
      "source": [
        "# Import library\n",
        "import numpy as np"
      ],
      "execution_count": 0,
      "outputs": []
    },
    {
      "cell_type": "markdown",
      "metadata": {
        "id": "6x6cUi9s31YG",
        "colab_type": "text"
      },
      "source": [
        "### Array\n",
        "An array is a special variable, which can hold more than one value at a time. Arrays are used to store multiple values in one single variable\n"
      ]
    },
    {
      "cell_type": "markdown",
      "metadata": {
        "id": "0hjhK9ADwbzh",
        "colab_type": "text"
      },
      "source": [
        "Create array"
      ]
    },
    {
      "cell_type": "code",
      "metadata": {
        "id": "1S_SOmVSvCX3",
        "colab_type": "code",
        "colab": {}
      },
      "source": [
        "# Create an Array\n",
        "array = np.array([1,2,3,4,5,6,7,8,9])\n",
        "array"
      ],
      "execution_count": 0,
      "outputs": []
    },
    {
      "cell_type": "code",
      "metadata": {
        "id": "TyLLdX0f2x_o",
        "colab_type": "code",
        "colab": {}
      },
      "source": [
        "# Create an Array with Shape\n",
        "array_a = np.array([1,2,3,4,5,6,7,8,9]).reshape((3,3))\n",
        "array_a"
      ],
      "execution_count": 0,
      "outputs": []
    },
    {
      "cell_type": "code",
      "metadata": {
        "id": "3jFy2w6Gm4mD",
        "colab_type": "code",
        "colab": {}
      },
      "source": [
        "# Create an Array based on Other Array\n",
        "array_b = array_a + 6\n",
        "array_b"
      ],
      "execution_count": 0,
      "outputs": []
    },
    {
      "cell_type": "code",
      "metadata": {
        "id": "JKaBngZvE9r-",
        "colab_type": "code",
        "colab": {}
      },
      "source": [
        "# Concat Array a and Array b (Horizontally)\n",
        "np.concatenate([array_a,array_b],axis=1)"
      ],
      "execution_count": 0,
      "outputs": []
    },
    {
      "cell_type": "code",
      "metadata": {
        "id": "sT_DEtCfisaB",
        "colab_type": "code",
        "colab": {}
      },
      "source": [
        "# Concat Array a and Array b (Vertically)\n",
        "np.concatenate([array_a,array_b],axis=0)"
      ],
      "execution_count": 0,
      "outputs": []
    },
    {
      "cell_type": "markdown",
      "metadata": {
        "id": "SCIPyEZKkmFP",
        "colab_type": "text"
      },
      "source": [
        "Explore the array"
      ]
    },
    {
      "cell_type": "code",
      "metadata": {
        "id": "TJQRB4gsmw38",
        "colab_type": "code",
        "colab": {}
      },
      "source": [
        "# Show the nth Row Index and nth Coulmn Index of an Array\n",
        "array_a[0,1]"
      ],
      "execution_count": 0,
      "outputs": []
    },
    {
      "cell_type": "code",
      "metadata": {
        "id": "RsoZeZeJth3N",
        "colab_type": "code",
        "colab": {}
      },
      "source": [
        "# Show the nth Row Index of an Array\n",
        "array_a[0,:]"
      ],
      "execution_count": 0,
      "outputs": []
    },
    {
      "cell_type": "code",
      "metadata": {
        "id": "nj5YWur30Je1",
        "colab_type": "code",
        "colab": {}
      },
      "source": [
        "# Show the nth Column Index of an Array\n",
        "array_a[:,1]"
      ],
      "execution_count": 0,
      "outputs": []
    },
    {
      "cell_type": "markdown",
      "metadata": {
        "id": "86dbPcF20p2C",
        "colab_type": "text"
      },
      "source": [
        "Assign value"
      ]
    },
    {
      "cell_type": "code",
      "metadata": {
        "id": "5GUMFlqp0sT4",
        "colab_type": "code",
        "colab": {}
      },
      "source": [
        "# Assign Value to the nth Row Index of an Array\n",
        "array_a[0,:] = 5\n",
        "array_a"
      ],
      "execution_count": 0,
      "outputs": []
    },
    {
      "cell_type": "markdown",
      "metadata": {
        "id": "X5wC5gTanKVm",
        "colab_type": "text"
      },
      "source": [
        "Basic operation"
      ]
    },
    {
      "cell_type": "code",
      "metadata": {
        "id": "G5qWOy9fFIPV",
        "colab_type": "code",
        "colab": {}
      },
      "source": [
        "# Summation\n",
        "array_a + array_b"
      ],
      "execution_count": 0,
      "outputs": []
    },
    {
      "cell_type": "code",
      "metadata": {
        "id": "_JhGTqwJ2s8-",
        "colab_type": "code",
        "colab": {}
      },
      "source": [
        "# Multiplication\n",
        "array_a * 2"
      ],
      "execution_count": 0,
      "outputs": []
    },
    {
      "cell_type": "code",
      "metadata": {
        "id": "EqSHeTKR1DhW",
        "colab_type": "code",
        "colab": {}
      },
      "source": [
        "# Multiplication\n",
        "array_a * array_b"
      ],
      "execution_count": 0,
      "outputs": []
    },
    {
      "cell_type": "code",
      "metadata": {
        "id": "0c1fxQBDnriZ",
        "colab_type": "code",
        "colab": {}
      },
      "source": [
        "# Sum All Values in an Array\n",
        "array_a.sum()"
      ],
      "execution_count": 0,
      "outputs": []
    },
    {
      "cell_type": "code",
      "metadata": {
        "id": "nG4dE-u_GBQP",
        "colab_type": "code",
        "colab": {}
      },
      "source": [
        "# Log\n",
        "np.log(array_a)"
      ],
      "execution_count": 0,
      "outputs": []
    },
    {
      "cell_type": "markdown",
      "metadata": {
        "id": "VtdLhjBNvkiE",
        "colab_type": "text"
      },
      "source": [
        "### Matrix"
      ]
    },
    {
      "cell_type": "markdown",
      "metadata": {
        "id": "E1NZFCzsvwYL",
        "colab_type": "text"
      },
      "source": [
        "Create matrix"
      ]
    },
    {
      "cell_type": "code",
      "metadata": {
        "id": "fdR85Mc8vxpD",
        "colab_type": "code",
        "colab": {}
      },
      "source": [
        "# Create Matrix\n",
        "matrix_a = np.matrix([1,2,3,4,5,6,7,8,9]).reshape((3,3))\n",
        "matrix_a"
      ],
      "execution_count": 0,
      "outputs": []
    },
    {
      "cell_type": "code",
      "metadata": {
        "id": "d7wqzPsDv7y4",
        "colab_type": "code",
        "colab": {}
      },
      "source": [
        "# Create a Matrix based on Other Matrix\n",
        "matrix_b = matrix_a + 6\n",
        "matrix_b"
      ],
      "execution_count": 0,
      "outputs": []
    },
    {
      "cell_type": "markdown",
      "metadata": {
        "id": "KNps7sJSwJIX",
        "colab_type": "text"
      },
      "source": [
        "Basic operation"
      ]
    },
    {
      "cell_type": "code",
      "metadata": {
        "id": "SDkySUAfwKc0",
        "colab_type": "code",
        "colab": {}
      },
      "source": [
        "# Summation\n",
        "matrix_a + matrix_b"
      ],
      "execution_count": 0,
      "outputs": []
    },
    {
      "cell_type": "code",
      "metadata": {
        "id": "ygx9_2UiwMmM",
        "colab_type": "code",
        "colab": {}
      },
      "source": [
        "# Multiplication\n",
        "matrix_a * matrix_b"
      ],
      "execution_count": 0,
      "outputs": []
    },
    {
      "cell_type": "markdown",
      "metadata": {
        "id": "pRrAKp32CzHh",
        "colab_type": "text"
      },
      "source": [
        "## Pandas\n",
        "Pandas is a software library written for the Python programming language for data manipulation and analysis. We can analyze data in pandas with Series and DataFrames."
      ]
    },
    {
      "cell_type": "markdown",
      "metadata": {
        "id": "K8pfuf06wwJ1",
        "colab_type": "text"
      },
      "source": [
        "Import library"
      ]
    },
    {
      "cell_type": "code",
      "metadata": {
        "id": "bJlUlFLqDncg",
        "colab_type": "code",
        "colab": {}
      },
      "source": [
        "# Import Library\n",
        "import pandas as pd"
      ],
      "execution_count": 0,
      "outputs": []
    },
    {
      "cell_type": "markdown",
      "metadata": {
        "id": "yVfgpESjttW_",
        "colab_type": "text"
      },
      "source": [
        "### Series"
      ]
    },
    {
      "cell_type": "markdown",
      "metadata": {
        "id": "HYx4c8POHXbg",
        "colab_type": "text"
      },
      "source": [
        "Series is one dimensional(1-D) array defined in pandas that can be used to store any data type."
      ]
    },
    {
      "cell_type": "markdown",
      "metadata": {
        "id": "pQo2RRP3w488",
        "colab_type": "text"
      },
      "source": [
        "Create series"
      ]
    },
    {
      "cell_type": "code",
      "metadata": {
        "id": "7VVegnB_DGVq",
        "colab_type": "code",
        "colab": {}
      },
      "source": [
        "# Create a Series\n",
        "series_a = pd.Series([12,-4,7,9])\n",
        "series_a"
      ],
      "execution_count": 0,
      "outputs": []
    },
    {
      "cell_type": "code",
      "metadata": {
        "id": "oLHYrNBkCyth",
        "colab_type": "code",
        "colab": {}
      },
      "source": [
        "# Create a Series with Index\n",
        "series_a = pd.Series([12,-4,7,9,8,8,7,9], index=['a','b','c','d','e','f','g','h'])\n",
        "series_a"
      ],
      "execution_count": 0,
      "outputs": []
    },
    {
      "cell_type": "markdown",
      "metadata": {
        "id": "xQqTLRsDw8aU",
        "colab_type": "text"
      },
      "source": [
        "Explore the series"
      ]
    },
    {
      "cell_type": "code",
      "metadata": {
        "id": "dVFE0rAlDDP0",
        "colab_type": "code",
        "colab": {}
      },
      "source": [
        "# Show the nth Value of a Series\n",
        "series_a[2]"
      ],
      "execution_count": 0,
      "outputs": []
    },
    {
      "cell_type": "code",
      "metadata": {
        "id": "0EqVX3QjD7lw",
        "colab_type": "code",
        "colab": {}
      },
      "source": [
        "# Show the Value of a Series based on Index\n",
        "series_a['a']"
      ],
      "execution_count": 0,
      "outputs": []
    },
    {
      "cell_type": "code",
      "metadata": {
        "id": "2O9dXxYyEBi-",
        "colab_type": "code",
        "colab": {}
      },
      "source": [
        "# Set the nth Values of a Series\n",
        "series_a[1] = 0\n",
        "series_a"
      ],
      "execution_count": 0,
      "outputs": []
    },
    {
      "cell_type": "code",
      "metadata": {
        "id": "vV-CwpJrEPnP",
        "colab_type": "code",
        "colab": {}
      },
      "source": [
        "# Filtering Values\n",
        "series_a[series_a > 8]"
      ],
      "execution_count": 0,
      "outputs": []
    },
    {
      "cell_type": "code",
      "metadata": {
        "id": "Dz-aeZ25EaxT",
        "colab_type": "code",
        "colab": {}
      },
      "source": [
        "# Operations and Mathematical Functions\n",
        "series_a + 2"
      ],
      "execution_count": 0,
      "outputs": []
    },
    {
      "cell_type": "code",
      "metadata": {
        "id": "9KP5dMJitQ8o",
        "colab_type": "code",
        "colab": {}
      },
      "source": [
        "# Show Unique Value\n",
        "series_a.unique()"
      ],
      "execution_count": 0,
      "outputs": []
    },
    {
      "cell_type": "code",
      "metadata": {
        "id": "phB9M_bkuGSj",
        "colab_type": "code",
        "colab": {}
      },
      "source": [
        "# Count Each Value\n",
        "series_a.value_counts()"
      ],
      "execution_count": 0,
      "outputs": []
    },
    {
      "cell_type": "markdown",
      "metadata": {
        "id": "8asRuM8MMOUp",
        "colab_type": "text"
      },
      "source": [
        "### DataFrame\n",
        "The DataFrame is a tabular data structure very similar to the Spreadsheet (the most familiar are Excel\n",
        "spreadsheets). This data structure is designed to extend the case of the Series to multiple dimensions."
      ]
    },
    {
      "cell_type": "markdown",
      "metadata": {
        "id": "inwfERx1vRQl",
        "colab_type": "text"
      },
      "source": [
        "Create Data Frame"
      ]
    },
    {
      "cell_type": "code",
      "metadata": {
        "id": "rd-hKUiHL6DQ",
        "colab_type": "code",
        "colab": {}
      },
      "source": [
        "# Create Data Frame\n",
        "data = {'color' : ['blue','green','yellow','red','white'],\n",
        "        'object' : ['ball','pen','pencil','paper','mug'],\n",
        "        'price' : [1.2,1.0,0.6,0.9,1.7]}\n",
        "df_stationary_a = pd.DataFrame(data)\n",
        "df_stationary_a"
      ],
      "execution_count": 0,
      "outputs": []
    },
    {
      "cell_type": "code",
      "metadata": {
        "id": "LzKJC06cL7IT",
        "colab_type": "code",
        "colab": {}
      },
      "source": [
        "# Select Columns and Create a New Data Frame\n",
        "df_stationary_b = pd.DataFrame(df_stationary_a, columns=['object','price'])\n",
        "df_stationary_b"
      ],
      "execution_count": 0,
      "outputs": []
    },
    {
      "cell_type": "code",
      "metadata": {
        "id": "PLcWEhNAL7OQ",
        "colab_type": "code",
        "colab": {}
      },
      "source": [
        "# Set Index for the Data Frame\n",
        "df_stationary_c = pd.DataFrame(data, index=['one','two','three','four','five'])\n",
        "df_stationary_c"
      ],
      "execution_count": 0,
      "outputs": []
    },
    {
      "cell_type": "markdown",
      "metadata": {
        "id": "NqXGfd2FvTrQ",
        "colab_type": "text"
      },
      "source": [
        "Import Data"
      ]
    },
    {
      "cell_type": "code",
      "metadata": {
        "id": "KCD4CtauL7Uo",
        "colab_type": "code",
        "colab": {}
      },
      "source": [
        "# Import Data\n",
        "df_churn = pd.read_csv('https://raw.githubusercontent.com/rc-dbe/bigdatacertification/master/dataset/churn.csv', sep=';',)\n",
        "df_churn"
      ],
      "execution_count": 0,
      "outputs": []
    },
    {
      "cell_type": "markdown",
      "metadata": {
        "id": "sJHaqeLMvo8l",
        "colab_type": "text"
      },
      "source": [
        "Data Exploration"
      ]
    },
    {
      "cell_type": "code",
      "metadata": {
        "id": "iLAsb8amHL5f",
        "colab_type": "code",
        "colab": {}
      },
      "source": [
        "# Show Missing Values on Data Frame\n",
        "df_churn.isnull().sum()"
      ],
      "execution_count": 0,
      "outputs": []
    },
    {
      "cell_type": "code",
      "metadata": {
        "id": "wdM3mOg6Hy10",
        "colab_type": "code",
        "colab": {}
      },
      "source": [
        "# Impute Missing Values with Median Value\n",
        "median = df_churn[\"TotalCharges\"].median()\n",
        "df_churn[\"TotalCharges\"].fillna(median, inplace=True)"
      ],
      "execution_count": 0,
      "outputs": []
    },
    {
      "cell_type": "code",
      "metadata": {
        "id": "iJLRVmHsIi8Z",
        "colab_type": "code",
        "colab": {}
      },
      "source": [
        "# Check the Data Information\n",
        "df_churn.info()"
      ],
      "execution_count": 0,
      "outputs": []
    },
    {
      "cell_type": "code",
      "metadata": {
        "id": "SfkwH6K4Tibq",
        "colab_type": "code",
        "colab": {}
      },
      "source": [
        "# Describe the Statistics of Data\n",
        "df_churn.describe()"
      ],
      "execution_count": 0,
      "outputs": []
    },
    {
      "cell_type": "code",
      "metadata": {
        "id": "_LPrYN0kWHOJ",
        "colab_type": "code",
        "colab": {}
      },
      "source": [
        "# Save Data Frame as CSV\n",
        "df_churn.to_csv('churn bersih.csv', index=False)"
      ],
      "execution_count": 0,
      "outputs": []
    },
    {
      "cell_type": "markdown",
      "metadata": {
        "id": "Ds2eMHFoEVBZ",
        "colab_type": "text"
      },
      "source": [
        "# Data Design and Transformation with Pandas"
      ]
    },
    {
      "cell_type": "markdown",
      "metadata": {
        "id": "LCBk5qreGjBU",
        "colab_type": "text"
      },
      "source": [
        "It is often the case with data science projects that you’ll have to deal with messy or incomplete data. The raw data we obtain from different data sources is often unusable at the beginning. All the activity that you do on the raw data to make it “clean” enough to input to your analytical algorithm is called data wrangling.\n",
        "\n",
        "In basic terms data wrangling is the process of unifying and organising different data sets. This step iteratively changes the shape of a dataset until it works well for finding insights or building a good analytic model. Data wrangling is the process where individuals manually convert and map raw data into another format in order to make it more accessible and usable. \n",
        "\n",
        "Pandas is mainly used for machine learning in form of dataframes. Pandas allow importing data of various file formats such as csv, excel etc. Pandas allows various data manipulation operations such as groupby, join, merge, melt, concatenation as well as data cleaning features such as filling, replacing or imputing null values. The Pandas library provides useful functions to support Data Wrangling tasks."
      ]
    },
    {
      "cell_type": "markdown",
      "metadata": {
        "id": "TLmIEi-N_oAi",
        "colab_type": "text"
      },
      "source": [
        "Import Libraries"
      ]
    },
    {
      "cell_type": "code",
      "metadata": {
        "id": "gSpp8LNxZWrL",
        "colab_type": "code",
        "colab": {}
      },
      "source": [
        "# Import Libraries for Data Manupulation\n",
        "import numpy as np\n",
        "import pandas as pd"
      ],
      "execution_count": 0,
      "outputs": []
    },
    {
      "cell_type": "markdown",
      "metadata": {
        "id": "aEM0s4IkEZdV",
        "colab_type": "text"
      },
      "source": [
        "## Joining Data"
      ]
    },
    {
      "cell_type": "markdown",
      "metadata": {
        "id": "44tYK75S51rc",
        "colab_type": "text"
      },
      "source": [
        "Organizations typically find that their data comes from many different sources and this means that it can become scattered and unorganised. Joining data is pusposed to organise different data sets."
      ]
    },
    {
      "cell_type": "markdown",
      "metadata": {
        "id": "6zz6nl8aHrTm",
        "colab_type": "text"
      },
      "source": [
        "### Concatenating"
      ]
    },
    {
      "cell_type": "markdown",
      "metadata": {
        "id": "sjuxkiwFcDdK",
        "colab_type": "text"
      },
      "source": [
        "Concatenating is defined as combining multiple data sources together. The concat function is performing concatenation operations along an axis. Let us create different objects and do concatenation."
      ]
    },
    {
      "cell_type": "markdown",
      "metadata": {
        "id": "rpX4-dWT-mPn",
        "colab_type": "text"
      },
      "source": [
        "Create data frame"
      ]
    },
    {
      "cell_type": "code",
      "metadata": {
        "id": "7topSoLD-m7A",
        "colab_type": "code",
        "colab": {}
      },
      "source": [
        "# Create data frame 1\n",
        "df1 = pd.DataFrame({'A': ['A0', 'A1', 'A2', 'A3'],\n",
        "                    'B': ['B0', 'B1', 'B2', 'B3'],\n",
        "                    'C': ['C0', 'C1', 'C2', 'C3'],\n",
        "                    'D': ['D0', 'D1', 'D2', 'D3']},\n",
        "                    index=[0, 1, 2, 3]) \n",
        "df1"
      ],
      "execution_count": 0,
      "outputs": []
    },
    {
      "cell_type": "code",
      "metadata": {
        "id": "bk7mTq0v_Ebn",
        "colab_type": "code",
        "colab": {}
      },
      "source": [
        "# Create data frame 2\n",
        "df2 = pd.DataFrame({'A': ['A4', 'A5', 'A6', 'A7'],\n",
        "                    'B': ['B4', 'B5', 'B6', 'B7'],\n",
        "                    'C': ['C4', 'C5', 'C6', 'C7'],\n",
        "                    'D': ['D4', 'D5', 'D6', 'D7']},\n",
        "                    index=[4, 5, 6, 7])\n",
        "df2"
      ],
      "execution_count": 0,
      "outputs": []
    },
    {
      "cell_type": "code",
      "metadata": {
        "id": "BWVDtwHV_GWt",
        "colab_type": "code",
        "colab": {}
      },
      "source": [
        "# Create data frame 3\n",
        "df3 = pd.DataFrame({'A': ['A8', 'A9', 'A10', 'A11'],\n",
        "                    'B': ['B8', 'B9', 'B10', 'B11'],\n",
        "                    'C': ['C8', 'C9', 'C10', 'C11'],\n",
        "                    'D': ['D8', 'D9', 'D10', 'D11']},\n",
        "                    index=[0, 1, 2, 3])\n",
        "df3"
      ],
      "execution_count": 0,
      "outputs": []
    },
    {
      "cell_type": "code",
      "metadata": {
        "id": "EZqjtIkUA9rw",
        "colab_type": "code",
        "colab": {}
      },
      "source": [
        "# Create data frame 4\n",
        "df4 = pd.DataFrame({'B': ['B2', 'B3', 'B6', 'B7'],\n",
        "                    'D': ['D2', 'D3', 'D6', 'D7'],\n",
        "                    'F': ['F2', 'F3', 'F6', 'F7']},\n",
        "                    index=[2, 3, 6, 7])\n",
        "df4"
      ],
      "execution_count": 0,
      "outputs": []
    },
    {
      "cell_type": "markdown",
      "metadata": {
        "id": "EkvQsu0gBIX6",
        "colab_type": "text"
      },
      "source": [
        "Concat the same size data frame vertically"
      ]
    },
    {
      "cell_type": "code",
      "metadata": {
        "id": "Zou9-eQg_eUs",
        "colab_type": "code",
        "colab": {}
      },
      "source": [
        "# Concat Data Frame\n",
        "pd.concat([df1, df2])"
      ],
      "execution_count": 0,
      "outputs": []
    },
    {
      "cell_type": "code",
      "metadata": {
        "id": "QLytReAZ__bD",
        "colab_type": "code",
        "colab": {}
      },
      "source": [
        "# Concat Data Frame with Keys\n",
        "pd.concat([df1, df2, df3], keys=['df1', 'df2'])"
      ],
      "execution_count": 0,
      "outputs": []
    },
    {
      "cell_type": "markdown",
      "metadata": {
        "id": "bZrRYRmHCWam",
        "colab_type": "text"
      },
      "source": [
        "Concat the same size data frame horizontally"
      ]
    },
    {
      "cell_type": "code",
      "metadata": {
        "id": "-CI66VmRBvYs",
        "colab_type": "code",
        "colab": {}
      },
      "source": [
        "# Concat Data Frame\n",
        "pd.concat([df1, df3], axis=1)"
      ],
      "execution_count": 0,
      "outputs": []
    },
    {
      "cell_type": "code",
      "metadata": {
        "id": "C-WKT2-mCcWY",
        "colab_type": "code",
        "colab": {}
      },
      "source": [
        "# Concat Data Frame with Keys\n",
        "pd.concat([df1, df3], axis=1, keys=['df1', 'df2'])"
      ],
      "execution_count": 0,
      "outputs": []
    },
    {
      "cell_type": "markdown",
      "metadata": {
        "id": "ZQGSrtrjBdoD",
        "colab_type": "text"
      },
      "source": [
        "Concat the different size data frame vertically"
      ]
    },
    {
      "cell_type": "code",
      "metadata": {
        "id": "BTb8Ff4kDKsP",
        "colab_type": "code",
        "colab": {}
      },
      "source": [
        "# Concat with Join Outer\n",
        "pd.concat([df1, df4], join='outer', keys=['df1', 'df4'])"
      ],
      "execution_count": 0,
      "outputs": []
    },
    {
      "cell_type": "code",
      "metadata": {
        "id": "9EPrcmEpBhzK",
        "colab_type": "code",
        "colab": {}
      },
      "source": [
        "# Concat with Join Inner\n",
        "pd.concat([df1, df4], join='inner', keys=['df1', 'df4'])"
      ],
      "execution_count": 0,
      "outputs": []
    },
    {
      "cell_type": "markdown",
      "metadata": {
        "id": "M53IUMoAELwm",
        "colab_type": "text"
      },
      "source": [
        "Concat the different size data frame horizontally"
      ]
    },
    {
      "cell_type": "code",
      "metadata": {
        "id": "7vakFJQNDmDy",
        "colab_type": "code",
        "colab": {}
      },
      "source": [
        "# Concat with Join Outer\n",
        "pd.concat([df1, df4], axis=1, join='outer', keys=['df1', 'df4'])"
      ],
      "execution_count": 0,
      "outputs": []
    },
    {
      "cell_type": "code",
      "metadata": {
        "id": "ZBUSXEGlDiEc",
        "colab_type": "code",
        "colab": {}
      },
      "source": [
        "# Concat with Join Inner\n",
        "pd.concat([df1, df4], axis=1, join='inner', keys=['df1', 'df4'])"
      ],
      "execution_count": 0,
      "outputs": []
    },
    {
      "cell_type": "markdown",
      "metadata": {
        "id": "3lUDFdpfFPWa",
        "colab_type": "text"
      },
      "source": [
        "Ignoring indexes on the concatenation axis"
      ]
    },
    {
      "cell_type": "code",
      "metadata": {
        "id": "-YVyohhaFQvH",
        "colab_type": "code",
        "colab": {}
      },
      "source": [
        "# Concat and Ignore Index\n",
        "pd.concat([df1, df4], axis=1, join='outer', ignore_index=True)"
      ],
      "execution_count": 0,
      "outputs": []
    },
    {
      "cell_type": "markdown",
      "metadata": {
        "id": "8FFBkHt_FJoN",
        "colab_type": "text"
      },
      "source": [
        "### Merging"
      ]
    },
    {
      "cell_type": "markdown",
      "metadata": {
        "id": "m8D8E-ldZoiQ",
        "colab_type": "text"
      },
      "source": [
        "Merge operations combine data by linking rows using key(s). These operations are central to relational databases. The merge function in pandas is the main entry point for using these algorithms on your data."
      ]
    },
    {
      "cell_type": "markdown",
      "metadata": {
        "id": "wr0I9JI43pGe",
        "colab_type": "text"
      },
      "source": [
        "Create data frame"
      ]
    },
    {
      "cell_type": "code",
      "metadata": {
        "id": "OrYPJy0TETUr",
        "colab_type": "code",
        "colab": {}
      },
      "source": [
        "# Create Pet Weight Data Frame\n",
        "df_pets_age = pd.DataFrame( {'pet'  : ['cat', 'cat', 'dog', 'dog', 'dog', 'otter', 'otter'],\n",
        "                             'age'  : [1, 1, 3, 3, 5, 2, 4]})\n",
        "df_pets_age"
      ],
      "execution_count": 0,
      "outputs": []
    },
    {
      "cell_type": "code",
      "metadata": {
        "id": "UUyA1iWO4AmS",
        "colab_type": "code",
        "colab": {}
      },
      "source": [
        "# Create Pet Color Data Frame\n",
        "df_pets_color = pd.DataFrame({'pet': ['cat', 'dog', 'otter', 'lion'],\n",
        "                             'color' : ['white', 'grey', 'brown', 'red']})\n",
        "df_pets_color"
      ],
      "execution_count": 0,
      "outputs": []
    },
    {
      "cell_type": "code",
      "metadata": {
        "id": "qHdKO0oJ5LII",
        "colab_type": "code",
        "colab": {}
      },
      "source": [
        "# Create Animal Type Data Frame\n",
        "df_animals_type = pd.DataFrame({'animal': ['cat', 'dog', 'otter', 'lion'],\n",
        "                                'type' : ['tame', 'tame', 'tame', 'wild']})\n",
        "df_animals_type"
      ],
      "execution_count": 0,
      "outputs": []
    },
    {
      "cell_type": "markdown",
      "metadata": {
        "id": "Ct7_FfRl6CHs",
        "colab_type": "text"
      },
      "source": [
        "Merge with the same key column name"
      ]
    },
    {
      "cell_type": "code",
      "metadata": {
        "id": "ryZ4NprEFe_C",
        "colab_type": "code",
        "colab": {}
      },
      "source": [
        "# Merge Pet Age and Pet Color based on pet Column\n",
        "df_pets = pd.merge(df_pets_age, df_pets_color, on='pet')\n",
        "df_pets"
      ],
      "execution_count": 0,
      "outputs": []
    },
    {
      "cell_type": "markdown",
      "metadata": {
        "id": "CIE2_4DgbHkv",
        "colab_type": "text"
      },
      "source": [
        "If the column names are different in each data frame, you can specify them separately:"
      ]
    },
    {
      "cell_type": "code",
      "metadata": {
        "id": "ezmUfLybbV96",
        "colab_type": "code",
        "colab": {}
      },
      "source": [
        "# Merge Pet Weight and Pet Color based on pet Column and animal Column\n",
        "df_pets1 = pd.merge(df_pets_age, df_animals_type, left_on='pet', right_on='animal')\n",
        "df_pets1"
      ],
      "execution_count": 0,
      "outputs": []
    },
    {
      "cell_type": "markdown",
      "metadata": {
        "id": "JQJ9cfrNLPks",
        "colab_type": "text"
      },
      "source": [
        "### Reshaping"
      ]
    },
    {
      "cell_type": "markdown",
      "metadata": {
        "id": "ZdhnVuuccqEs",
        "colab_type": "text"
      },
      "source": [
        "Reshaping means the transformation of the structure of data to make it suitable for further analysis."
      ]
    },
    {
      "cell_type": "markdown",
      "metadata": {
        "id": "q6jN1H9aSOBc",
        "colab_type": "text"
      },
      "source": [
        "Create data frame"
      ]
    },
    {
      "cell_type": "code",
      "metadata": {
        "id": "m31it5MRLSvt",
        "colab_type": "code",
        "colab": {}
      },
      "source": [
        "# Create Data Frame\n",
        "df_city = pd.DataFrame({'kecamatan' : pd.Series([21, 30], index =['medan', 'bandung']), \n",
        "                        'kelurahan' : pd.Series([151, 151], index =['medan', 'bandung']),\n",
        "                        'area' : pd.Series([265, 167], index =['medan', 'bandung'])})\n",
        "df_city.index.name = 'city'\n",
        "df_city"
      ],
      "execution_count": 0,
      "outputs": []
    },
    {
      "cell_type": "markdown",
      "metadata": {
        "id": "crWQg3-2csHT",
        "colab_type": "text"
      },
      "source": [
        "Using the stack method on this data pivots the columns into the rows, producing a Series:"
      ]
    },
    {
      "cell_type": "code",
      "metadata": {
        "id": "hpmvT3jXRuEA",
        "colab_type": "code",
        "colab": {}
      },
      "source": [
        "# Stack Data\n",
        "result = df_city.stack()\n",
        "result"
      ],
      "execution_count": 0,
      "outputs": []
    },
    {
      "cell_type": "markdown",
      "metadata": {
        "id": "gdFbIIgVcvd2",
        "colab_type": "text"
      },
      "source": [
        "\n",
        "From a hierarchically-indexed Series, you can rearrange the data back into a DataFrame with unstack:"
      ]
    },
    {
      "cell_type": "code",
      "metadata": {
        "id": "hAMEKBV4Rwzo",
        "colab_type": "code",
        "colab": {}
      },
      "source": [
        "# Unstack Data\n",
        "result.unstack()"
      ],
      "execution_count": 0,
      "outputs": []
    },
    {
      "cell_type": "markdown",
      "metadata": {
        "id": "SgCp6WWScwk6",
        "colab_type": "text"
      },
      "source": [
        "\n",
        "By default the innermost level is unstacked (same with stack). You can unstack a different level by passing a level number or name:"
      ]
    },
    {
      "cell_type": "code",
      "metadata": {
        "id": "vHhaPGrXR6VP",
        "colab_type": "code",
        "colab": {}
      },
      "source": [
        "# Unstack in Different Level\n",
        "result.unstack(0)"
      ],
      "execution_count": 0,
      "outputs": []
    },
    {
      "cell_type": "code",
      "metadata": {
        "id": "CcxB4vz9R_QF",
        "colab_type": "code",
        "colab": {}
      },
      "source": [
        "# Unstack in Different Level\n",
        "result.unstack('city')"
      ],
      "execution_count": 0,
      "outputs": []
    },
    {
      "cell_type": "markdown",
      "metadata": {
        "id": "SMUoRYiOSwuP",
        "colab_type": "text"
      },
      "source": [
        "## Data Cleansing"
      ]
    },
    {
      "cell_type": "markdown",
      "metadata": {
        "id": "D-X35xaZTCpC",
        "colab_type": "text"
      },
      "source": [
        "### Removing Duplicates"
      ]
    },
    {
      "cell_type": "markdown",
      "metadata": {
        "id": "dwDn2-8bWluN",
        "colab_type": "text"
      },
      "source": [
        "Duplicate rows may be found in a DataFrame for any number of reasons. Here is an example. We use pet dataframe that already created before."
      ]
    },
    {
      "cell_type": "markdown",
      "metadata": {
        "id": "w4aRdZtwSeCl",
        "colab_type": "text"
      },
      "source": [
        "Show data frame"
      ]
    },
    {
      "cell_type": "code",
      "metadata": {
        "id": "aPHmp8hDS-6j",
        "colab_type": "code",
        "colab": {}
      },
      "source": [
        "# Show the Data Frame\n",
        "df_pets"
      ],
      "execution_count": 0,
      "outputs": []
    },
    {
      "cell_type": "markdown",
      "metadata": {
        "id": "9vfCH-0OWpxv",
        "colab_type": "text"
      },
      "source": [
        "The DataFrame method duplicated returns a boolean Series indicating whether each row is a duplicate or not:"
      ]
    },
    {
      "cell_type": "code",
      "metadata": {
        "id": "KWpWTJjmTNsO",
        "colab_type": "code",
        "colab": {}
      },
      "source": [
        "# Check for Duplication\n",
        "df_pets.duplicated()"
      ],
      "execution_count": 0,
      "outputs": []
    },
    {
      "cell_type": "markdown",
      "metadata": {
        "id": "5COnE15hWsxb",
        "colab_type": "text"
      },
      "source": [
        "Relatedly, drop_duplicates returns a DataFrame where the duplicated array is True:"
      ]
    },
    {
      "cell_type": "code",
      "metadata": {
        "id": "ZazfWiHBTX9m",
        "colab_type": "code",
        "colab": {}
      },
      "source": [
        "# Drop Duplicates in The Dataframe\n",
        "df_pets.drop_duplicates()"
      ],
      "execution_count": 0,
      "outputs": []
    },
    {
      "cell_type": "markdown",
      "metadata": {
        "id": "nFGXnpMHEyVo",
        "colab_type": "text"
      },
      "source": [
        "Drop duplicates based on one column"
      ]
    },
    {
      "cell_type": "code",
      "metadata": {
        "id": "rTIAMEASTk86",
        "colab_type": "code",
        "colab": {}
      },
      "source": [
        "# Drop Duplicates based on Column Pet\n",
        "df_pets.drop_duplicates(['pet'])"
      ],
      "execution_count": 0,
      "outputs": []
    },
    {
      "cell_type": "code",
      "metadata": {
        "id": "nieIZedwDnJ_",
        "colab_type": "code",
        "colab": {}
      },
      "source": [
        "# Drop Duplicates based on Column Weight\n",
        "df_pets.drop_duplicates(['age'])"
      ],
      "execution_count": 0,
      "outputs": []
    },
    {
      "cell_type": "code",
      "metadata": {
        "id": "_iUsxsFvEbOx",
        "colab_type": "code",
        "colab": {}
      },
      "source": [
        "# Drop Duplicates based on Column Gender\n",
        "df_pets.drop_duplicates(['color'])"
      ],
      "execution_count": 0,
      "outputs": []
    },
    {
      "cell_type": "markdown",
      "metadata": {
        "id": "hCEf59fYE8rf",
        "colab_type": "text"
      },
      "source": [
        "Drop duplicates based on more than one columns"
      ]
    },
    {
      "cell_type": "code",
      "metadata": {
        "id": "0RfSqtp1Ejwd",
        "colab_type": "code",
        "colab": {}
      },
      "source": [
        "# Drop Duplicates based on Column Pet and Weight\n",
        "df_pets.drop_duplicates(['pet', 'age'])"
      ],
      "execution_count": 0,
      "outputs": []
    },
    {
      "cell_type": "markdown",
      "metadata": {
        "id": "zlJ1w69tUJaR",
        "colab_type": "text"
      },
      "source": [
        "### Replacing Values"
      ]
    },
    {
      "cell_type": "markdown",
      "metadata": {
        "id": "4Gco82NZW5_q",
        "colab_type": "text"
      },
      "source": [
        "In replacing values, we replace values with different new values. We use pet data frame that already created before."
      ]
    },
    {
      "cell_type": "markdown",
      "metadata": {
        "id": "NX15OduDSzw6",
        "colab_type": "text"
      },
      "source": [
        "Show data frame"
      ]
    },
    {
      "cell_type": "code",
      "metadata": {
        "id": "lJIsWuNyUiDl",
        "colab_type": "code",
        "colab": {}
      },
      "source": [
        "# Show the Data Frame\n",
        "df_pets"
      ],
      "execution_count": 0,
      "outputs": []
    },
    {
      "cell_type": "markdown",
      "metadata": {
        "id": "Hxo36lFLW9yq",
        "colab_type": "text"
      },
      "source": [
        "If we consider that otter with the age of 4 is an uncorrect and unknown data, we can replace these values with NA values (missing values)."
      ]
    },
    {
      "cell_type": "code",
      "metadata": {
        "id": "s02WY662UlIM",
        "colab_type": "code",
        "colab": {}
      },
      "source": [
        "# Set Value as Missing Data\n",
        "df_pets.replace(4, np.nan)"
      ],
      "execution_count": 0,
      "outputs": []
    },
    {
      "cell_type": "markdown",
      "metadata": {
        "id": "rppc1mxVXAIQ",
        "colab_type": "text"
      },
      "source": [
        "Replace multiple values at once"
      ]
    },
    {
      "cell_type": "code",
      "metadata": {
        "id": "-KFeiGNfUr28",
        "colab_type": "code",
        "colab": {}
      },
      "source": [
        "# Set 4 and 5 Values as Missing Data\n",
        "df_pets.replace([4, 5], np.nan)"
      ],
      "execution_count": 0,
      "outputs": []
    },
    {
      "cell_type": "markdown",
      "metadata": {
        "id": "WVgsHvKFXFxA",
        "colab_type": "text"
      },
      "source": [
        "Replace multiple values with different value for each"
      ]
    },
    {
      "cell_type": "code",
      "metadata": {
        "id": "kAEAPuaVU4NZ",
        "colab_type": "code",
        "colab": {}
      },
      "source": [
        "# Set 4 as Missing Data and 5 as 10\n",
        "df_pets.replace({4: np.nan, 5: 10})"
      ],
      "execution_count": 0,
      "outputs": []
    },
    {
      "cell_type": "markdown",
      "metadata": {
        "id": "EIJTH8wjW6CY",
        "colab_type": "text"
      },
      "source": [
        "Create pet data with missing value"
      ]
    },
    {
      "cell_type": "code",
      "metadata": {
        "id": "i_tLI265W-I-",
        "colab_type": "code",
        "colab": {}
      },
      "source": [
        "# Create Data Frame with Missing Value\n",
        "df_pets_a = df_pets.replace({4: np.nan, 5: 10})\n",
        "df_pets_a"
      ],
      "execution_count": 0,
      "outputs": []
    },
    {
      "cell_type": "markdown",
      "metadata": {
        "id": "25kYJSviV-yo",
        "colab_type": "text"
      },
      "source": [
        "### Impute Missing Values"
      ]
    },
    {
      "cell_type": "markdown",
      "metadata": {
        "id": "_piE9CHiWa_x",
        "colab_type": "text"
      },
      "source": [
        "Filling in missing data with the fill NA method. Here is an example. We use pet data frame with missing value that already created before."
      ]
    },
    {
      "cell_type": "markdown",
      "metadata": {
        "id": "WH619XikXuT7",
        "colab_type": "text"
      },
      "source": [
        "Show data frame"
      ]
    },
    {
      "cell_type": "code",
      "metadata": {
        "id": "VlGvF8j0Xqm7",
        "colab_type": "code",
        "colab": {}
      },
      "source": [
        "# Show Data Frame\n",
        "df_pets_a"
      ],
      "execution_count": 0,
      "outputs": []
    },
    {
      "cell_type": "markdown",
      "metadata": {
        "id": "MlucZx6PYoK9",
        "colab_type": "text"
      },
      "source": [
        "Search for column with missing values"
      ]
    },
    {
      "cell_type": "code",
      "metadata": {
        "id": "x4eG_M3AZMCq",
        "colab_type": "code",
        "colab": {}
      },
      "source": [
        "# Show Missing Values on Data Frame\n",
        "df_pets_a.isnull().sum()"
      ],
      "execution_count": 0,
      "outputs": []
    },
    {
      "cell_type": "markdown",
      "metadata": {
        "id": "Ogl4cjDzVspJ",
        "colab_type": "text"
      },
      "source": [
        "Impute missing value"
      ]
    },
    {
      "cell_type": "code",
      "metadata": {
        "id": "3PqBOHq4Vv6y",
        "colab_type": "code",
        "colab": {}
      },
      "source": [
        "# Impute Missing Values with Median Value\n",
        "median = df_pets_a['age'].median()\n",
        "df_pets_a['age'].fillna(median, inplace=True)\n",
        "df_pets_a"
      ],
      "execution_count": 0,
      "outputs": []
    },
    {
      "cell_type": "markdown",
      "metadata": {
        "id": "A_LBFvUjZQwt",
        "colab_type": "text"
      },
      "source": [
        "Recheck the missing values"
      ]
    },
    {
      "cell_type": "code",
      "metadata": {
        "id": "7u5r8OphZYvG",
        "colab_type": "code",
        "colab": {}
      },
      "source": [
        "# Show Missing Values on Data Frame\n",
        "df_pets_a.isnull().sum()"
      ],
      "execution_count": 0,
      "outputs": []
    },
    {
      "cell_type": "markdown",
      "metadata": {
        "id": "j4YCbkysU_xQ",
        "colab_type": "text"
      },
      "source": [
        "### Filtering"
      ]
    },
    {
      "cell_type": "markdown",
      "metadata": {
        "id": "PNUxuvA5VNLe",
        "colab_type": "text"
      },
      "source": [
        "Filtering value is largely a matter of applying array operations. Consider a data frame with some normally distributed data:"
      ]
    },
    {
      "cell_type": "code",
      "metadata": {
        "id": "LYi0O42zVCgf",
        "colab_type": "code",
        "colab": {}
      },
      "source": [
        "# Create Data Frame with Random Value with 1000 Rows and 4 Columns\n",
        "np.random.seed(12345)\n",
        "df_random = pd.DataFrame(np.random.randn(1000, 4))\n",
        "df_random"
      ],
      "execution_count": 0,
      "outputs": []
    },
    {
      "cell_type": "code",
      "metadata": {
        "id": "VcoCEgy_Vp3h",
        "colab_type": "code",
        "colab": {}
      },
      "source": [
        "# Describe the Data\n",
        "df_random.describe()"
      ],
      "execution_count": 0,
      "outputs": []
    },
    {
      "cell_type": "markdown",
      "metadata": {
        "id": "dyZ6masLVOxU",
        "colab_type": "text"
      },
      "source": [
        "Find values in one of the columns exceeding three in magnitude"
      ]
    },
    {
      "cell_type": "code",
      "metadata": {
        "id": "V5IpK_69VSDq",
        "colab_type": "code",
        "colab": {}
      },
      "source": [
        "# Find Values in Column 2 which is Exceeding 3 in Magnitude\n",
        "column2 = df_random[2]\n",
        "column2[np.abs(column2) > 3]"
      ],
      "execution_count": 0,
      "outputs": []
    },
    {
      "cell_type": "markdown",
      "metadata": {
        "id": "-jdD1oBrVRhx",
        "colab_type": "text"
      },
      "source": [
        "Select all rows having a value exceeding 3 or -3"
      ]
    },
    {
      "cell_type": "code",
      "metadata": {
        "id": "IrnBOS_aVbJZ",
        "colab_type": "code",
        "colab": {}
      },
      "source": [
        "# Select Rows Having a Value Exceeding 3 in Magnitude\n",
        "df_random[(np.abs(df_random) > 3).any(1)]"
      ],
      "execution_count": 0,
      "outputs": []
    }
  ]
}